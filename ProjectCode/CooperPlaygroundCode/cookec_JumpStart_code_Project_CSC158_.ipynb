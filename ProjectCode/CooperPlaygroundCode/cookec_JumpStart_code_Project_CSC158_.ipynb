{
  "nbformat": 4,
  "nbformat_minor": 0,
  "metadata": {
    "colab": {
      "provenance": []
    },
    "kernelspec": {
      "name": "python3",
      "display_name": "Python 3"
    },
    "language_info": {
      "name": "python"
    }
  },
  "cells": [
    {
      "cell_type": "code",
      "source": [
        "# Author: Dr. Steven C. Lindo\n",
        "# Date: Fall 2023\n",
        "# Desc: JumpStart Code for Students\n",
        "# Revision History\n",
        "# -   -   -   -   -   -   -   -   -   -   -   -   -   -   -   -   -\n",
        "# Name        Date          Description\n",
        "# scl         10/28/2024    create NLP Review for Students\n",
        "# scl         10/30/2024    refactor to read files from a google drive\n",
        "# cc          11/9/2024     added code to intake data from snomed\n",
        "#\n",
        "# -   -   -   -   -   -   -   -   -   -   -   -   -   -   -   -   -"
      ],
      "metadata": {
        "id": "0f5Hlcm6SKvp"
      },
      "execution_count": 139,
      "outputs": []
    },
    {
      "cell_type": "code",
      "source": [
        "import nltk\n",
        "nltk.download('punkt')\n",
        "nltk.download('brown')\n",
        "\n",
        "# NER tool for python\n",
        "import spacy\n",
        "import re\n",
        "\n",
        "#import requests\n",
        "from bs4 import BeautifulSoup\n",
        "\n",
        "import numpy as np\n",
        "import pandas as pd\n",
        "import seaborn as sns\n",
        "import matplotlib.pyplot as plt\n",
        "\n",
        "from string import digits, punctuation\n",
        "from sklearn.feature_extraction.text import TfidfVectorizer\n",
        "from sklearn.feature_extraction.text import CountVectorizer\n",
        "\n",
        "# load the tokenizer, tagger, ...from spacy\n",
        "spacy_nlp = spacy.load(\"en_core_web_sm\")\n",
        "pd.set_option(\"display.max_rows\", 2000)"
      ],
      "metadata": {
        "colab": {
          "base_uri": "https://localhost:8080/"
        },
        "id": "7-IIurhzUx_S",
        "outputId": "8137c52c-5cee-4a5c-b7e2-b35c60d06dda"
      },
      "execution_count": 140,
      "outputs": [
        {
          "output_type": "stream",
          "name": "stderr",
          "text": [
            "[nltk_data] Downloading package punkt to /root/nltk_data...\n",
            "[nltk_data]   Package punkt is already up-to-date!\n",
            "[nltk_data] Downloading package brown to /root/nltk_data...\n",
            "[nltk_data]   Package brown is already up-to-date!\n"
          ]
        }
      ]
    },
    {
      "cell_type": "code",
      "source": [
        "import os\n",
        "\n",
        "from google.colab import drive\n",
        "drive.mount('/content/drive')\n",
        "\n",
        "location ='drive/MyDrive/SnomedData/'\n",
        "list_of_files = os.listdir(location)\n",
        "list_of_files"
      ],
      "metadata": {
        "colab": {
          "base_uri": "https://localhost:8080/"
        },
        "id": "SvapO-fTSFfs",
        "outputId": "0dd76e5b-de08-4cb3-ddcf-1146afc6e4cd"
      },
      "execution_count": 141,
      "outputs": [
        {
          "output_type": "stream",
          "name": "stdout",
          "text": [
            "Drive already mounted at /content/drive; to attempt to forcibly remount, call drive.mount(\"/content/drive\", force_remount=True).\n"
          ]
        },
        {
          "output_type": "execute_result",
          "data": {
            "text/plain": [
              "['snomed0.txt',\n",
              " 'snomed1.txt',\n",
              " 'snomed2.txt',\n",
              " 'snomed4.txt',\n",
              " 'snomed8.txt',\n",
              " 'snomed7.txt',\n",
              " 'snomed9.txt',\n",
              " 'snomed6.txt',\n",
              " 'snomed5.txt',\n",
              " 'snomed10.txt',\n",
              " 'snomed14.txt',\n",
              " 'snomed11.txt',\n",
              " 'snomed13.txt',\n",
              " 'snomed12.txt',\n",
              " 'snomed3.txt',\n",
              " 'snomed15.txt']"
            ]
          },
          "metadata": {},
          "execution_count": 141
        }
      ]
    },
    {
      "cell_type": "code",
      "source": [
        "# -   -   -   -   -   -   -   -   -   -   -   -   -   -   -   -   -\n",
        "def f_cleanCorpus(c):\n",
        "  cc = []\n",
        "\n",
        "  for doc in c:\n",
        "    doc = str(doc.lower())\n",
        "    remove_digits = str.maketrans('', '', digits)\n",
        "    remove_pipes = str.maketrans('','','|')\n",
        "    clean_doc = doc.translate(remove_digits)\n",
        "    clean_doc = clean_doc.translate(remove_pipes)\n",
        "    clean_doc = clean_doc.replace(' ','')\n",
        "    clean_doc = clean_doc.replace('\\n','')\n",
        "\n",
        "\n",
        "    cc.append(clean_doc)\n",
        "\n",
        "  return cc\n",
        "# -   -   -   -   -   -   -   -   -   -   -   -   -   -   -   -   -\n",
        "\n",
        "# -   -   -   -   -   -   -   -   -   -   -   -   -   -   -   -   -\n",
        "def loadCorpus(files):\n",
        "  # empty corpus of abstracts\n",
        "  corpus = []\n",
        "\n",
        "  # create the content corpus\n",
        "  for fn in files:\n",
        "    f = open(location+fn, 'r')\n",
        "    _text = f.read()\n",
        "    _text.lower()\n",
        "    corpus.append(_text)\n",
        "\n",
        "  # clean the corpus\n",
        "  clean_corpus = f_cleanCorpus(corpus)\n",
        "  #print(clean_corpus)\n",
        "  return clean_corpus\n",
        "# -   -   -   -   -   -   -   -   -   -   -   -   -   -   -   -   -\n",
        "\n",
        "# -   -   -   -   -   -   -   -   -   -   -   -   -   -   -   -   -\n",
        "def checkIdx(idx,text):\n",
        "  if idx == -1:\n",
        "    idx = len(text)\n",
        "  return idx\n",
        "\n",
        "def f_createEntities(allCorpus):\n",
        "  entities = []\n",
        "\n",
        "  for corp in allCorpus:\n",
        "    newDict = {}\n",
        "\n",
        "    #get name\n",
        "    nextIdx = ((corp.find(\"===\")) if (corp.find(\"===\") != -1) else (corp.find(\"<<<\")))\n",
        "    nextIdx = checkIdx(nextIdx,corp)\n",
        "    newDict[\"name\"] = corp[:nextIdx]\n",
        "\n",
        "    #get isA relationships\n",
        "    corp = corp[nextIdx+3:]\n",
        "    nextIdx = corp.find(\":\")\n",
        "    nextIdx = checkIdx(nextIdx,corp)\n",
        "    currText = corp[:nextIdx]\n",
        "    newDict[\"isA\"] = currText.split(\"+\")\n",
        "\n",
        "    #get attributes\n",
        "    corp = corp[nextIdx+2:]\n",
        "    nextIdx = corp.find(\"}\")\n",
        "    nextIdx = checkIdx(nextIdx,corp)\n",
        "    currText = corp[:nextIdx]\n",
        "    attributes = currText.split(\",\")\n",
        "    if len(attributes) == 0:\n",
        "      entities.append(newDict)\n",
        "      continue\n",
        "    attDict = {}\n",
        "    for att in attributes:\n",
        "      splitAtt = att.split(\"=\")\n",
        "      if len(splitAtt) != 2:\n",
        "        continue\n",
        "      attDict[splitAtt[0]] = splitAtt[1]\n",
        "    newDict[\"attributes\"] = attDict\n",
        "\n",
        "    entities.append(newDict)\n",
        "\n",
        "  return entities\n",
        "# -   -   -   -   -   -   -   -   -   -   -   -   -   -   -   -   -"
      ],
      "metadata": {
        "id": "RyE5sY_rTUJ3"
      },
      "execution_count": 142,
      "outputs": []
    },
    {
      "cell_type": "code",
      "source": [
        "def main():\n",
        "  list_entities = []\n",
        "\n",
        "  content_corpus = loadCorpus(list_of_files)\n",
        "  list_entities = f_createEntities(content_corpus)\n",
        "  for ent in list_entities:\n",
        "    print(ent)\n",
        "    print(\"\\n\")\n",
        "\n",
        "  return 0"
      ],
      "metadata": {
        "id": "HfoIKGECSvVV"
      },
      "execution_count": 143,
      "outputs": []
    },
    {
      "cell_type": "code",
      "source": [
        "r  = main()\n",
        "r"
      ],
      "metadata": {
        "colab": {
          "base_uri": "https://localhost:8080/"
        },
        "id": "0WOeUxBGa9xg",
        "outputId": "ee53f149-f420-4b44-8fb2-e98d2d629b4c"
      },
      "execution_count": 144,
      "outputs": [
        {
          "output_type": "stream",
          "name": "stdout",
          "text": [
            "{'name': 'cataract(disorder)', 'isA': ['cataractfinding(finding)', 'degenerativedisorderofeye(disorder)', 'disorderoflens(disorder)', 'lesionofeye(disorder)'], 'attributes': {'findingsite(attribute)': 'structureoflensofeye(bodystructure)', 'associatedmorphology(attribute)': 'abnormallyopaquestructure(morphologicabnormality)'}}\n",
            "\n",
            "\n",
            "{'name': 'glaucoma(disorder)', 'isA': ['disorderofeyeproper(disorder)'], 'attributes': {'findingsite(attribute)': 'structureofeyeproper(bodystructure)'}}\n",
            "\n",
            "\n",
            "{'name': 'age-relatedmaculardegeneration(disorder)', 'isA': ['degenerativedisorderofmacula(disorder)'], 'attributes': {'findingsite(attribute)': 'maculaluteastructure(bodystructure)', 'associatedmorphology(attribute)': 'degenerativeabnormality(morphologicabnormality)'}}\n",
            "\n",
            "\n",
            "{'name': 'blurringofvisualimage(finding)', 'isA': ['findingofclarityofvisualimage(finding)', 'findingofheadregion(finding)'], 'attributes': {'findingsite(attribute)': 'eyeregionstructure(bodystructure)'}}\n",
            "\n",
            "\n",
            "{'name': 'conventionalreleaseeyedrops(doseform)', 'isA': ['oculardoseform(doseform)'], 'attributes': {'asdoseformintendedsite(attribute)': 'ocular(intendedsite)', 'hasdoseformreleasecharacteristic(attribute)': 'conventionalrelease(releasecharacteristic)', 'hasdoseformadministrationmethod(attribute)': 'instill(administrationmethod)'}}\n",
            "\n",
            "\n",
            "{'name': 'cataractsurgery(procedure)', 'isA': ['operationonlens(procedure)'], 'attributes': {'method(attribute)': 'surgicalaction(qualifiervalue)', 'proceduresite-indirect(attribute)': 'structureoflensofeye(bodystructure)', 'directmorphology(attribute)': 'abnormallyopaquestructure(morphologicabnormality)'}}\n",
            "\n",
            "\n",
            "{'name': 'injectionofeyeproper(procedure)', 'isA': ['injectionofeyeregion(procedure)', 'procedureoneyeproper(procedure)'], 'attributes': {'method(attribute)': 'injection-action(qualifiervalue)', 'proceduresite-indirect(attribute)': 'structureofeyeproper(bodystructure)'}}\n",
            "\n",
            "\n",
            "{'name': 'abnormalvision(finding)', 'isA': ['findingofvisionofeye(finding)', 'functionalfinding(finding)'], 'attributes': {'interprets(attribute)': 'visualfunction(observableentity)', 'hasinterpretation(attribute)': 'abnormal(qualifiervalue)'}}\n",
            "\n",
            "\n",
            "{'name': 'abnormalperipheralvision(finding)', 'isA': ['abnormalvision(finding)', 'findingofvisualfield(finding)'], 'attributes': {'interprets(attribute)': 'peripheralvision', 'hasinterpretation(attribute)': 'abnormal(qualifiervalue)'}}\n",
            "\n",
            "\n",
            "{'name': 'laserretinopexy(procedure)', 'isA': ['fixationofretina(procedure)', 'surgicalprocedureoneyeproperusinglaser(procedure)'], 'attributes': {'method(attribute)': 'fixation-action(qualifiervalue)', 'proceduresite-direct(attribute)': 'retinalstructure(bodystructure)', 'usingdevice(attribute)': 'laserdevice(physicalobject)', 'usingenergy(attribute)': 'laser-generatedelectromagneticradiation(physicalforce)'}}\n",
            "\n",
            "\n",
            "{'name': 'ophthalmicoptician(occupation)', 'isA': ['optician(occupation)'], 'attributes': {}}\n",
            "\n",
            "\n",
            "{'name': 'prostaglandin(substance)', 'isA': ['prostanoid(substance)'], 'attributes': {}}\n",
            "\n",
            "\n",
            "{'name': 'optometrist(occupation)', 'isA': ['optometrist/optician(occupation)', 'professionalliedtomedicine(occupation)'], 'attributes': {}}\n",
            "\n",
            "\n",
            "{'name': 'substancewithvascularendothelialgrowthfactorreceptorantagonistmechanismofaction(substance)', 'isA': ['substancewithreceptorantagonistmechanismofaction(substance)'], 'attributes': {'asdisposition(attribute)': 'vascularendothelialgrowthfactorreceptorantagonist(disposition)'}}\n",
            "\n",
            "\n",
            "{'name': 'retinopathyduetodiabetesmellitus(disorder)', 'isA': ['disorderofeyeduetodiabetesmellitus(disorder)', 'retinaldisorder(disorder)'], 'attributes': {'findingsite(attribute)': 'retinalstructure(bodystructure)'}}\n",
            "\n",
            "\n",
            "{'name': 'retinalsurgeon(occupation)', 'isA': ['ophthalmicsurgeon(occupation)'], 'attributes': {}}\n",
            "\n",
            "\n"
          ]
        },
        {
          "output_type": "execute_result",
          "data": {
            "text/plain": [
              "0"
            ]
          },
          "metadata": {},
          "execution_count": 144
        }
      ]
    }
  ]
}